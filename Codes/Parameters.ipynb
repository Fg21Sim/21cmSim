{
 "cells": [
  {
   "cell_type": "code",
   "execution_count": 1,
   "metadata": {},
   "outputs": [],
   "source": [
    "%matplotlib inline\n",
    "import matplotlib.pyplot as plt\n",
    "import os\n",
    "# We change the default level of the logger so that\n",
    "# we can see what's happening with caching.\n",
    "import logging, sys\n",
    "logger = logging.getLogger('21cmFAST')\n",
    "logger.setLevel(logging.INFO)\n",
    "\n",
    "import time\n",
    "\n",
    "import py21cmfast as p21c\n",
    "# For plotting the cubes, we use the plotting submodule:\n",
    "from py21cmfast import plotting\n",
    "# For interacting with the cache\n",
    "from py21cmfast import cache_tools\n"
   ]
  },
  {
   "cell_type": "code",
   "execution_count": 2,
   "metadata": {},
   "outputs": [
    {
     "name": "stdout",
     "output_type": "stream",
     "text": [
      "Default Cosmological Parameters\n"
     ]
    },
    {
     "data": {
      "text/plain": [
       "{'SIGMA_8': 0.8102,\n",
       " 'hlittle': 0.6766,\n",
       " 'OMm': 0.30964144154550644,\n",
       " 'OMb': 0.04897468161869667,\n",
       " 'POWER_INDEX': 0.9665}"
      ]
     },
     "execution_count": 2,
     "metadata": {},
     "output_type": "execute_result"
    }
   ],
   "source": [
    "print('Default Cosmological Parameters')\n",
    "p21c.CosmoParams._defaults_"
   ]
  },
  {
   "cell_type": "code",
   "execution_count": 3,
   "metadata": {},
   "outputs": [
    {
     "name": "stdout",
     "output_type": "stream",
     "text": [
      "Default Astro Parameters\n"
     ]
    },
    {
     "data": {
      "text/plain": [
       "{'HII_EFF_FACTOR': 30.0,\n",
       " 'F_STAR10': -1.3,\n",
       " 'F_STAR7_MINI': -2.0,\n",
       " 'ALPHA_STAR': 0.5,\n",
       " 'ALPHA_STAR_MINI': 0.5,\n",
       " 'F_ESC10': -1.0,\n",
       " 'F_ESC7_MINI': -2.0,\n",
       " 'ALPHA_ESC': -0.5,\n",
       " 'M_TURN': 8.7,\n",
       " 'R_BUBBLE_MAX': None,\n",
       " 'ION_Tvir_MIN': 4.69897,\n",
       " 'L_X': 40.0,\n",
       " 'L_X_MINI': 40.0,\n",
       " 'NU_X_THRESH': 500.0,\n",
       " 'X_RAY_SPEC_INDEX': 1.0,\n",
       " 'X_RAY_Tvir_MIN': None,\n",
       " 'F_H2_SHIELD': 0.0,\n",
       " 't_STAR': 0.5,\n",
       " 'N_RSD_STEPS': 20,\n",
       " 'A_LW': 2.0,\n",
       " 'BETA_LW': 0.6,\n",
       " 'A_VCB': 1.0,\n",
       " 'BETA_VCB': 1.8}"
      ]
     },
     "execution_count": 3,
     "metadata": {},
     "output_type": "execute_result"
    }
   ],
   "source": [
    "print('Default Astro Parameters')\n",
    "p21c.AstroParams._defaults_"
   ]
  },
  {
   "cell_type": "code",
   "execution_count": 4,
   "metadata": {},
   "outputs": [
    {
     "name": "stdout",
     "output_type": "stream",
     "text": [
      "Default Flag Options\n"
     ]
    },
    {
     "data": {
      "text/plain": [
       "{'USE_HALO_FIELD': False,\n",
       " 'USE_MINI_HALOS': False,\n",
       " 'USE_MASS_DEPENDENT_ZETA': False,\n",
       " 'SUBCELL_RSD': False,\n",
       " 'INHOMO_RECO': False,\n",
       " 'USE_TS_FLUCT': False,\n",
       " 'M_MIN_in_Mass': False,\n",
       " 'PHOTON_CONS': False,\n",
       " 'FIX_VCB_AVG': False}"
      ]
     },
     "execution_count": 4,
     "metadata": {},
     "output_type": "execute_result"
    }
   ],
   "source": [
    "print('Default Flag Options')\n",
    "p21c.FlagOptions._defaults_"
   ]
  },
  {
   "cell_type": "code",
   "execution_count": 5,
   "metadata": {},
   "outputs": [
    {
     "name": "stdout",
     "output_type": "stream",
     "text": [
      "Default User Parameters\n"
     ]
    },
    {
     "data": {
      "text/plain": [
       "{'BOX_LEN': 300.0,\n",
       " 'DIM': None,\n",
       " 'HII_DIM': 200,\n",
       " 'USE_FFTW_WISDOM': False,\n",
       " 'HMF': 1,\n",
       " 'USE_RELATIVE_VELOCITIES': False,\n",
       " 'POWER_SPECTRUM': 0,\n",
       " 'N_THREADS': 1,\n",
       " 'PERTURB_ON_HIGH_RES': False,\n",
       " 'NO_RNG': False,\n",
       " 'USE_INTERPOLATION_TABLES': None,\n",
       " 'FAST_FCOLL_TABLES': False,\n",
       " 'USE_2LPT': True,\n",
       " 'MINIMIZE_MEMORY': False}"
      ]
     },
     "execution_count": 5,
     "metadata": {},
     "output_type": "execute_result"
    }
   ],
   "source": [
    "print('Default User Parameters')\n",
    "p21c.UserParams._defaults_"
   ]
  },
  {
   "cell_type": "markdown",
   "metadata": {},
   "source": [
    "## General settings"
   ]
  },
  {
   "cell_type": "code",
   "execution_count": 6,
   "metadata": {},
   "outputs": [],
   "source": [
    "HII_DIM = 1024\n",
    "BOX_LEN = 1000\n",
    "DIM = 3072\n",
    "N_THREADS = 48"
   ]
  },
  {
   "cell_type": "markdown",
   "metadata": {},
   "source": [
    "## Dr. Qin's Recommendation"
   ]
  },
  {
   "cell_type": "code",
   "execution_count": 7,
   "metadata": {},
   "outputs": [],
   "source": [
    "# User parameters from Qin\n",
    "user_qin = {\"HII_DIM\":HII_DIM, \n",
    "            \"BOX_LEN\": BOX_LEN, \n",
    "            \"DIM\": DIM, \n",
    "            \"N_THREADS\": N_THREADS,\n",
    "            \"PERTURB_ON_HIGH_RES\":True,\n",
    "            \"USE_INTERPOLATION_TABLES\":True}"
   ]
  },
  {
   "cell_type": "code",
   "execution_count": 8,
   "metadata": {},
   "outputs": [],
   "source": [
    "# User parameters from Qin w/ optional on\n",
    "user_qin_o = {\"HII_DIM\":HII_DIM, \n",
    "              \"BOX_LEN\": BOX_LEN, \n",
    "              \"DIM\": DIM, \n",
    "              \"N_THREADS\": N_THREADS,\n",
    "              \"PERTURB_ON_HIGH_RES\":True,\n",
    "              \"USE_INTERPOLATION_TABLES\":True,\n",
    "              \"MINIMIZE_MEMORY\":True}"
   ]
  },
  {
   "cell_type": "code",
   "execution_count": 9,
   "metadata": {},
   "outputs": [],
   "source": [
    "# Flag options from Qin\n",
    "flag_qin ={\"INHOMO_RECO\":True,\n",
    "           \"USE_TS_FLUCT\":True,\n",
    "           \"USE_MASS_DEPENDENT_ZETA\":True}"
   ]
  },
  {
   "cell_type": "code",
   "execution_count": 10,
   "metadata": {},
   "outputs": [],
   "source": [
    "# Flag options from Qin w/ optional on\n",
    "flag_qin_o ={\"INHOMO_RECO\":True,\n",
    "             \"USE_TS_FLUCT\":True,\n",
    "             \"USE_MASS_DEPENDENT_ZETA\":True,\n",
    "             \"SUBCELL_RSD\":True,\n",
    "             \"PHOTON_CONS\":True}"
   ]
  },
  {
   "cell_type": "markdown",
   "metadata": {},
   "source": [
    "## Prof. Mesinger's Recommendation"
   ]
  },
  {
   "cell_type": "code",
   "execution_count": 11,
   "metadata": {},
   "outputs": [],
   "source": [
    "flag_m = {\"INHOMO_RECO\":True,\n",
    "          \"USE_TS_FLUCT\":True}"
   ]
  },
  {
   "cell_type": "code",
   "execution_count": 12,
   "metadata": {},
   "outputs": [],
   "source": [
    "astro_m = {\"HII_EFF_FACTOR\":20,\n",
    "           \"ION_Tvir_MIN\":4.1}"
   ]
  },
  {
   "cell_type": "code",
   "execution_count": null,
   "metadata": {},
   "outputs": [],
   "source": []
  }
 ],
 "metadata": {
  "kernelspec": {
   "display_name": "Python 3",
   "language": "python",
   "name": "python3"
  },
  "language_info": {
   "codemirror_mode": {
    "name": "ipython",
    "version": 3
   },
   "file_extension": ".py",
   "mimetype": "text/x-python",
   "name": "python",
   "nbconvert_exporter": "python",
   "pygments_lexer": "ipython3",
   "version": "3.8.12"
  }
 },
 "nbformat": 4,
 "nbformat_minor": 4
}
